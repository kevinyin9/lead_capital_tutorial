{
  "nbformat": 4,
  "nbformat_minor": 0,
  "metadata": {
    "colab": {
      "name": "Lead_capital.ipynb",
      "provenance": []
    },
    "kernelspec": {
      "name": "python3",
      "display_name": "Python 3"
    },
    "language_info": {
      "name": "python"
    }
  },
  "cells": [
    {
      "cell_type": "markdown",
      "metadata": {
        "id": "2McFbGtM995-"
      },
      "source": [
        "# **Lead_Capital**  Crypto Quantitative Trading Competition\n",
        "---\n",
        "---\n",
        "# **What Lead Capital offer**\n",
        "\n",
        "*   ## Binance Futures Minute data in CSV\n",
        "*   ## Including BTCUSDT / ETHUSDT / BNBUSDT / ADAUSDT / SOLUSDT / XRPUSDT / DOTUSDT / LINKUSDT / BCHUSDT\n",
        "\n",
        "---\n",
        "\n",
        "# **What Lead Capital Expect**\n",
        "\n",
        "*   ### Using the data provided to construct trading strategy\n",
        "*   ### Strategy at least need to provide:\n",
        "\n",
        "> #### 1. Document to demonstrate the trading rule/model structure\n",
        "> #### 2. Python 3.7 script (Jupyter Notebook/VSCode/PyCharm…)\n",
        "\n",
        "---\n",
        "\n",
        "# **Strategy Requirement**\n",
        "* ## At Least Long / Short Signal (Necessary)\n",
        "* ## Long_end / Short_end Signal (Optional but recommended)\n",
        "\n",
        "## ***Optional but definitely a plus to us***\n",
        "> ### 1. Performance static/plot/any graphic\n",
        "> ### 2. Detailed strategy document\n",
        "> ### 3. Strategy parameters location method\n",
        "> ### 4. Design your own backtest engine\n",
        "\n",
        "---\n",
        "\n",
        "# **How To Start?**\n",
        "## **Strategy Design Process**\n",
        "#### 1. Come up with Trading Idea (e.g. what indicators you want to use)\n",
        "#### 2. Data cleaning on Jupyter Notebook\n",
        "#### 3. Using TA-lib to Calculate Signal\n",
        "#### 4. Performance Calculation\n",
        "#### 5. Using Backtest Package (vectorbt or Backtrader)\n",
        "\n",
        "---\n",
        "\n",
        "## **Recommend Python Packages**\n",
        "##### 1. TA-lib: financial indicator library http://mrjbq7.github.io/ta-lib/doc_index.html\n",
        "\n",
        "##### 2. vectorbt: Backtest library https://vectorbt.dev/docs/index.html\n",
        "\n",
        "##### 3. Backtrader: Backtest library https://www.backtrader.com/\n",
        "\n",
        "\n",
        "---\n",
        "\n",
        "# ***Let's do some demo!!***\n",
        "## **Create a classic double SMA cross-over cross-under strategy!**\n",
        "### We'll buy when the short-term SMA cross-over the long-term SMA\n",
        "### We'll sell when the short-term SMA cross-under the long-term SMA\n",
        "\n",
        "\n",
        "##### 1. import ETHUSDT 1 minute data\n",
        "##### 2. resample to a 60 minutes data (1 hour a bar)\n",
        "##### 3. using Ta-Lib to calculate the indicator we need in this strategy\n",
        "##### in this case is 2 SMA calculated by the close price\n",
        "##### 4. generate 1 or 0 for long/short signal \n",
        "\n",
        " \n"
      ]
    },
    {
      "cell_type": "markdown",
      "metadata": {
        "id": "mJFqju4uuGt2"
      },
      "source": [
        ""
      ]
    },
    {
      "cell_type": "code",
      "metadata": {
        "id": "bkegoFQG9_8b"
      },
      "source": [
        "import csv"
      ],
      "execution_count": null,
      "outputs": []
    }
  ]
}